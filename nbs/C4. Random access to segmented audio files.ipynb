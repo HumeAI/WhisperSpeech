{
 "cells": [
  {
   "cell_type": "code",
   "execution_count": null,
   "id": "bb690998",
   "metadata": {},
   "outputs": [],
   "source": [
    "#| default_exp segmented_clips"
   ]
  },
  {
   "cell_type": "code",
   "execution_count": null,
   "id": "c7a1fafa",
   "metadata": {},
   "outputs": [],
   "source": [
    "#| exporti\n",
    "import hashlib\n",
    "import urllib.parse"
   ]
  },
  {
   "cell_type": "code",
   "execution_count": null,
   "id": "84d8ed75",
   "metadata": {},
   "outputs": [],
   "source": [
    "#| exporti\n",
    "def audio_segment_fname(sample=None, dataset=None, key=None):\n",
    "    if sample is not None:\n",
    "        key = sample['__key__']\n",
    "        dataset = sample['__url__'].split('/')[-3]\n",
    "    hash = hashlib.sha256()\n",
    "    hash.update(dataset.encode())\n",
    "    hash.update(key.encode())\n",
    "    bucket = hash.hexdigest()[:3]\n",
    "    return f\"{dataset}/{bucket}/{key.strip('/.').replace('/', '_')}.m4a\"\n",
    "\n",
    "def audio_segment_url(**kwargs):\n",
    "    return \"https://storage.googleapis.com/etts-audio-chunks/\"+urllib.parse.quote(audio_segment_fname(**kwargs))"
   ]
  },
  {
   "cell_type": "code",
   "execution_count": null,
   "id": "3ba2c0b5",
   "metadata": {},
   "outputs": [],
   "source": [
    "import webdataset as wds\n",
    "from IPython.display import Audio, Markdown\n",
    "from fastprogress import progress_bar"
   ]
  },
  {
   "cell_type": "code",
   "execution_count": null,
   "id": "d43bdd9f",
   "metadata": {},
   "outputs": [],
   "source": [
    "ds = wds.WebDataset('/data2/youtube-cc/small.en-txt/engadget-000000.tar.gz').decode()"
   ]
  },
  {
   "cell_type": "code",
   "execution_count": null,
   "id": "6d2cf090",
   "metadata": {},
   "outputs": [
    {
     "data": {
      "text/html": [
       "\n",
       "<style>\n",
       "    /* Turns off some styling */\n",
       "    progress {\n",
       "        /* gets rid of default border in Firefox and Opera. */\n",
       "        border: none;\n",
       "        /* Needs to be in here for Safari polyfill so background images work as expected. */\n",
       "        background-size: auto;\n",
       "    }\n",
       "    progress:not([value]), progress:not([value])::-webkit-progress-bar {\n",
       "        background: repeating-linear-gradient(45deg, #7e7e7e, #7e7e7e 10px, #5c5c5c 10px, #5c5c5c 20px);\n",
       "    }\n",
       "    .progress-bar-interrupted, .progress-bar-interrupted::-webkit-progress-bar {\n",
       "        background: #F44336;\n",
       "    }\n",
       "</style>\n"
      ],
      "text/plain": [
       "<IPython.core.display.HTML object>"
      ]
     },
     "metadata": {},
     "output_type": "display_data"
    },
    {
     "data": {
      "text/html": [
       "\n",
       "    <div>\n",
       "      <progress value='5' class='' max='5' style='width:300px; height:20px; vertical-align: middle;'></progress>\n",
       "      100.00% [5/5 00:00&lt;00:00]\n",
       "    </div>\n",
       "    "
      ],
      "text/plain": [
       "<IPython.core.display.HTML object>"
      ]
     },
     "metadata": {},
     "output_type": "display_data"
    },
    {
     "data": {
      "text/markdown": [
       " Bye!"
      ],
      "text/plain": [
       "<IPython.core.display.Markdown object>"
      ]
     },
     "metadata": {},
     "output_type": "display_data"
    },
    {
     "data": {
      "text/html": [
       "\n",
       "                <audio  controls=\"controls\" >\n",
       "                    <source src=\"https://storage.googleapis.com/etts-audio-chunks/youtube-cc/1b7/Engadget_%5B-E3qBUmDOBk%5D%20The%20best%20tech%20gifts%20for%20the%20holidays%20%EF%BD%9C%20Engadget%20Podcast_000.m4a\" type=\"audio/mpeg\" />\n",
       "                    Your browser does not support the audio element.\n",
       "                </audio>\n",
       "              "
      ],
      "text/plain": [
       "<IPython.lib.display.Audio object>"
      ]
     },
     "metadata": {},
     "output_type": "display_data"
    },
    {
     "data": {
      "text/markdown": [
       " What's up, everybody? Welcome back to another live recording of the Engadget Podcast. I'm Devendra Hardwar. I'm joined this morning with Sherlyn Lowe. Hey, Sherlyn."
      ],
      "text/plain": [
       "<IPython.core.display.Markdown object>"
      ]
     },
     "metadata": {},
     "output_type": "display_data"
    },
    {
     "data": {
      "text/html": [
       "\n",
       "                <audio  controls=\"controls\" >\n",
       "                    <source src=\"https://storage.googleapis.com/etts-audio-chunks/youtube-cc/96c/Engadget_%5B-E3qBUmDOBk%5D%20The%20best%20tech%20gifts%20for%20the%20holidays%20%EF%BD%9C%20Engadget%20Podcast_001.m4a\" type=\"audio/mpeg\" />\n",
       "                    Your browser does not support the audio element.\n",
       "                </audio>\n",
       "              "
      ],
      "text/plain": [
       "<IPython.lib.display.Audio object>"
      ]
     },
     "metadata": {},
     "output_type": "display_data"
    },
    {
     "data": {
      "text/markdown": [
       " Oh, I like your background. We're all doing fancy backgrounds now. Our senior commerce editor, Valentina Peledino. Hey, Valentina. Hi, guys. Hey. And our podcast producer, Ben Elman. Hey, Ben. My background is a front round. I'm sorry."
      ],
      "text/plain": [
       "<IPython.core.display.Markdown object>"
      ]
     },
     "metadata": {},
     "output_type": "display_data"
    },
    {
     "data": {
      "text/html": [
       "\n",
       "                <audio  controls=\"controls\" >\n",
       "                    <source src=\"https://storage.googleapis.com/etts-audio-chunks/youtube-cc/07d/Engadget_%5B-E3qBUmDOBk%5D%20The%20best%20tech%20gifts%20for%20the%20holidays%20%EF%BD%9C%20Engadget%20Podcast_002.m4a\" type=\"audio/mpeg\" />\n",
       "                    Your browser does not support the audio element.\n",
       "                </audio>\n",
       "              "
      ],
      "text/plain": [
       "<IPython.lib.display.Audio object>"
      ]
     },
     "metadata": {},
     "output_type": "display_data"
    },
    {
     "data": {
      "text/markdown": [
       " It's all good. I mean, you're you're definitely a candidate for using a background image of this point. We just have darkness. But good morning, everybody. Thank you all for joining us. Who's here in the chat room?"
      ],
      "text/plain": [
       "<IPython.core.display.Markdown object>"
      ]
     },
     "metadata": {},
     "output_type": "display_data"
    },
    {
     "data": {
      "text/html": [
       "\n",
       "                <audio  controls=\"controls\" >\n",
       "                    <source src=\"https://storage.googleapis.com/etts-audio-chunks/youtube-cc/470/Engadget_%5B-E3qBUmDOBk%5D%20The%20best%20tech%20gifts%20for%20the%20holidays%20%EF%BD%9C%20Engadget%20Podcast_003.m4a\" type=\"audio/mpeg\" />\n",
       "                    Your browser does not support the audio element.\n",
       "                </audio>\n",
       "              "
      ],
      "text/plain": [
       "<IPython.lib.display.Audio object>"
      ]
     },
     "metadata": {},
     "output_type": "display_data"
    },
    {
     "data": {
      "text/markdown": [
       " Jonathan Tran, Declan Flynn, CF 542."
      ],
      "text/plain": [
       "<IPython.core.display.Markdown object>"
      ]
     },
     "metadata": {},
     "output_type": "display_data"
    },
    {
     "data": {
      "text/html": [
       "\n",
       "                <audio  controls=\"controls\" >\n",
       "                    <source src=\"https://storage.googleapis.com/etts-audio-chunks/youtube-cc/a61/Engadget_%5B-E3qBUmDOBk%5D%20The%20best%20tech%20gifts%20for%20the%20holidays%20%EF%BD%9C%20Engadget%20Podcast_004.m4a\" type=\"audio/mpeg\" />\n",
       "                    Your browser does not support the audio element.\n",
       "                </audio>\n",
       "              "
      ],
      "text/plain": [
       "<IPython.lib.display.Audio object>"
      ]
     },
     "metadata": {},
     "output_type": "display_data"
    }
   ],
   "source": [
    "# show audio clips given some webdataset samples\n",
    "\n",
    "# using the `url=` argument to Audio won't embed the file into the notebook (resulting in a lot smaller files)\n",
    "for x in progress_bar(ds, total=5):\n",
    "    display(Markdown(x['txt']))\n",
    "    display(Audio(url=audio_segment_url(sample=x)))"
   ]
  },
  {
   "cell_type": "code",
   "execution_count": null,
   "id": "897868a4",
   "metadata": {},
   "outputs": [
    {
     "data": {
      "text/plain": [
       "{'__key__': 'Engadget/[-E3qBUmDOBk] The best tech gifts for the holidays ｜ Engadget Podcast_004',\n",
       " '__url__': '/data2/youtube-cc/small.en-txt/engadget-000000.tar.gz',\n",
       " 'txt': ' Jonathan Tran, Declan Flynn, CF 542.'}"
      ]
     },
     "execution_count": null,
     "metadata": {},
     "output_type": "execute_result"
    }
   ],
   "source": [
    "x"
   ]
  },
  {
   "cell_type": "code",
   "execution_count": null,
   "id": "16af9223",
   "metadata": {},
   "outputs": [
    {
     "data": {
      "text/html": [
       "\n",
       "                <audio  controls=\"controls\" >\n",
       "                    <source src=\"https://storage.googleapis.com/etts-audio-chunks/youtube-cc/a61/Engadget_%5B-E3qBUmDOBk%5D%20The%20best%20tech%20gifts%20for%20the%20holidays%20%EF%BD%9C%20Engadget%20Podcast_004.m4a\" type=\"audio/mpeg\" />\n",
       "                    Your browser does not support the audio element.\n",
       "                </audio>\n",
       "              "
      ],
      "text/plain": [
       "<IPython.lib.display.Audio object>"
      ]
     },
     "execution_count": null,
     "metadata": {},
     "output_type": "execute_result"
    }
   ],
   "source": [
    "# load a sample given it's key and dataset name\n",
    "Audio(url=audio_segment_url(dataset='youtube-cc', key='Engadget/[-E3qBUmDOBk] The best tech gifts for the holidays ｜ Engadget Podcast_004'))"
   ]
  },
  {
   "cell_type": "code",
   "execution_count": null,
   "id": "e5752243",
   "metadata": {},
   "outputs": [],
   "source": []
  }
 ],
 "metadata": {
  "kernelspec": {
   "display_name": "python3",
   "language": "python",
   "name": "python3"
  }
 },
 "nbformat": 4,
 "nbformat_minor": 5
}
